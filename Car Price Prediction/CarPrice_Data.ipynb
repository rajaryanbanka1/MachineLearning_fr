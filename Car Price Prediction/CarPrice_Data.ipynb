{
 "cells": [
  {
   "cell_type": "markdown",
   "metadata": {},
   "source": [
    "### Data Collection Phase\n",
    "You have to scrape at least 5000 used cars data. You can scrape more data as well, it’s up to you.\n",
    "more the data better the model.\n",
    "In this section You need to scrape the data of used cars from websites (Olx, cardekho, Cars24\n",
    "etc.) You need web scraping for this. You have to fetch data for different locations. The number of\n",
    "columns for data doesn’t have limit, it’s up to you and your creativity. Generally, these columns are\n",
    "Brand, model, variant, manufacturing year, driven kilometers, fuel, number of owners, location and\n",
    "at last target variable Price of the car. This data is to give you a hint about important variables in\n",
    "used car model. You can make changes to it, you can add or you can remove some columns, it\n",
    "completely depends on the website from which you are fetching the data.\n",
    "Try to include all types of cars in your data for example- SUV, Sedans, Coupe, minivan,\n",
    "Hatchback.\n",
    "\n",
    "#### Note – The data which you are collecting is important to us. Kindly don’t share it on any public platforms.\n",
    "\n",
    "### Model Building Phase\n",
    "After collecting the data, you need to build a machine learning model. Before model building do all\n",
    "data pre-processing steps. Try different models with different hyper parameters and select the best\n",
    "model.\n",
    "Follow the complete life cycle of data science. Include all the steps like.\n",
    "- Data Cleaning\n",
    "- Exploratory Data Analysis\n",
    "- Data Pre-processing\n",
    "- Model Building\n",
    "- Model Evaluation\n",
    "- Selecting the best model"
   ]
  },
  {
   "cell_type": "markdown",
   "metadata": {},
   "source": [
    "## Data Collection Phase"
   ]
  },
  {
   "cell_type": "code",
   "execution_count": 105,
   "metadata": {},
   "outputs": [],
   "source": [
    "import selenium\n",
    "import pandas as pd\n",
    "import numpy as np\n",
    "from selenium import webdriver\n",
    "from selenium.common.exceptions import NoSuchElementException\n",
    "import time\n",
    "from selenium.webdriver.common.action_chains import ActionChains\n",
    "from selenium.webdriver.common.keys import Keys"
   ]
  },
  {
   "cell_type": "code",
   "execution_count": null,
   "metadata": {},
   "outputs": [],
   "source": []
  },
  {
   "cell_type": "code",
   "execution_count": 2,
   "metadata": {},
   "outputs": [],
   "source": [
    "driver = webdriver.Chrome(\"/usr/lib/chromium-browser/chromedriver\")"
   ]
  },
  {
   "cell_type": "code",
   "execution_count": 3,
   "metadata": {},
   "outputs": [],
   "source": [
    "driver.get(\"https://www.cardekho.com/\")"
   ]
  },
  {
   "cell_type": "code",
   "execution_count": null,
   "metadata": {},
   "outputs": [],
   "source": []
  },
  {
   "cell_type": "code",
   "execution_count": 4,
   "metadata": {},
   "outputs": [
    {
     "data": {
      "text/plain": [
       "<selenium.webdriver.remote.webelement.WebElement (session=\"8a94b9cb208b9481d852328c8bf889b0\", element=\"7477914c-49bb-4d69-9650-e4d22b17643e\")>"
      ]
     },
     "execution_count": 4,
     "metadata": {},
     "output_type": "execute_result"
    }
   ],
   "source": [
    "used_car_button = driver.find_element_by_xpath(\"//span[@class='used-cars-india']\")\n",
    "used_car_button"
   ]
  },
  {
   "cell_type": "code",
   "execution_count": 5,
   "metadata": {},
   "outputs": [],
   "source": [
    "used_car_button.click()"
   ]
  },
  {
   "cell_type": "code",
   "execution_count": 6,
   "metadata": {},
   "outputs": [
    {
     "data": {
      "text/plain": [
       "<selenium.webdriver.remote.webelement.WebElement (session=\"8a94b9cb208b9481d852328c8bf889b0\", element=\"a0b94141-2c7f-42d8-9787-4226a9529a9a\")>"
      ]
     },
     "execution_count": 6,
     "metadata": {},
     "output_type": "execute_result"
    }
   ],
   "source": [
    "driver.maximize_window()\n",
    "time.sleep(1)\n",
    "\n",
    "location_search_element = driver.find_element_by_xpath(\"//div[@class='inputfield']/input\")\n",
    "location_search_element"
   ]
  },
  {
   "cell_type": "code",
   "execution_count": 7,
   "metadata": {},
   "outputs": [
    {
     "data": {
      "text/plain": [
       "[<selenium.webdriver.remote.webelement.WebElement (session=\"8a94b9cb208b9481d852328c8bf889b0\", element=\"33d483c4-44bc-42c5-b7d9-c5eb3cf37f37\")>,\n",
       " <selenium.webdriver.remote.webelement.WebElement (session=\"8a94b9cb208b9481d852328c8bf889b0\", element=\"ea2b9bac-e6dd-483e-9f74-7d9c93af3c3c\")>,\n",
       " <selenium.webdriver.remote.webelement.WebElement (session=\"8a94b9cb208b9481d852328c8bf889b0\", element=\"ce0ff108-e14b-4bad-908d-bae69e74cbae\")>,\n",
       " <selenium.webdriver.remote.webelement.WebElement (session=\"8a94b9cb208b9481d852328c8bf889b0\", element=\"bb00ef96-9347-48d3-962d-cdd3b2811d91\")>,\n",
       " <selenium.webdriver.remote.webelement.WebElement (session=\"8a94b9cb208b9481d852328c8bf889b0\", element=\"934c3d41-0dd3-4bb3-aa79-59c325bf2105\")>,\n",
       " <selenium.webdriver.remote.webelement.WebElement (session=\"8a94b9cb208b9481d852328c8bf889b0\", element=\"9c7caef5-029e-4765-b3da-9be17df68f72\")>,\n",
       " <selenium.webdriver.remote.webelement.WebElement (session=\"8a94b9cb208b9481d852328c8bf889b0\", element=\"089ad0b8-3d42-4c12-ae8f-7eb6f57743b5\")>,\n",
       " <selenium.webdriver.remote.webelement.WebElement (session=\"8a94b9cb208b9481d852328c8bf889b0\", element=\"f2eb2a6a-135e-4a36-80f3-03212e94124c\")>,\n",
       " <selenium.webdriver.remote.webelement.WebElement (session=\"8a94b9cb208b9481d852328c8bf889b0\", element=\"604acf8e-dfd6-4c89-8624-62adbc65058d\")>,\n",
       " <selenium.webdriver.remote.webelement.WebElement (session=\"8a94b9cb208b9481d852328c8bf889b0\", element=\"0c598a10-fae6-4ed5-935b-1ad64548915a\")>,\n",
       " <selenium.webdriver.remote.webelement.WebElement (session=\"8a94b9cb208b9481d852328c8bf889b0\", element=\"c2e0d826-afaa-45b6-938c-2208d977c728\")>,\n",
       " <selenium.webdriver.remote.webelement.WebElement (session=\"8a94b9cb208b9481d852328c8bf889b0\", element=\"ac718c0d-f5ba-463e-b6b8-73269d47756c\")>]"
      ]
     },
     "execution_count": 7,
     "metadata": {},
     "output_type": "execute_result"
    }
   ],
   "source": [
    "time.sleep(1)\n",
    "location_elements = driver.find_elements_by_xpath(\"//ul[@class='listing gsc_col-md-12 gsc_col-lg-12']/li/a\")\n",
    "location_elements"
   ]
  },
  {
   "cell_type": "code",
   "execution_count": 8,
   "metadata": {},
   "outputs": [
    {
     "data": {
      "text/plain": [
       "['https://www.cardekho.com/used-cars+in+ahmedabad',\n",
       " 'https://www.cardekho.com/used-cars+in+bangalore',\n",
       " 'https://www.cardekho.com/used-cars+in+chennai',\n",
       " 'https://www.cardekho.com/used-cars+in+delhi-ncr',\n",
       " 'https://www.cardekho.com/used-cars+in+gurgaon',\n",
       " 'https://www.cardekho.com/used-cars+in+hyderabad',\n",
       " 'https://www.cardekho.com/used-cars+in+jaipur',\n",
       " 'https://www.cardekho.com/used-cars+in+kolkata',\n",
       " 'https://www.cardekho.com/used-cars+in+mumbai',\n",
       " 'https://www.cardekho.com/used-cars+in+new-delhi',\n",
       " 'https://www.cardekho.com/used-cars+in+noida',\n",
       " 'https://www.cardekho.com/used-cars+in+pune']"
      ]
     },
     "execution_count": 8,
     "metadata": {},
     "output_type": "execute_result"
    }
   ],
   "source": [
    "location_urls = []\n",
    "for i in location_elements:\n",
    "    location_urls.append(i.get_attribute('href'))\n",
    "location_urls"
   ]
  },
  {
   "cell_type": "code",
   "execution_count": 9,
   "metadata": {},
   "outputs": [
    {
     "data": {
      "text/plain": [
       "['Ahmedabad',\n",
       " 'Bangalore',\n",
       " 'Chennai',\n",
       " 'Delhi NCR',\n",
       " 'Gurgaon',\n",
       " 'Hyderabad',\n",
       " 'Jaipur',\n",
       " 'Kolkata',\n",
       " 'Mumbai',\n",
       " 'New Delhi',\n",
       " 'Noida',\n",
       " 'Pune']"
      ]
     },
     "execution_count": 9,
     "metadata": {},
     "output_type": "execute_result"
    }
   ],
   "source": [
    "location_list = []\n",
    "for i in location_elements:\n",
    "        location_list.append(i.text)\n",
    "location_list"
   ]
  },
  {
   "cell_type": "code",
   "execution_count": 10,
   "metadata": {},
   "outputs": [],
   "source": [
    "actions = ActionChains(driver)"
   ]
  },
  {
   "cell_type": "code",
   "execution_count": 11,
   "metadata": {},
   "outputs": [],
   "source": [
    "driver.get(location_urls[0])\n",
    "time.sleep(0.5)"
   ]
  },
  {
   "cell_type": "code",
   "execution_count": 12,
   "metadata": {},
   "outputs": [
    {
     "data": {
      "text/plain": [
       "<selenium.webdriver.remote.webelement.WebElement (session=\"8a94b9cb208b9481d852328c8bf889b0\", element=\"c4fe0ae0-609b-4a1e-b576-e2c49f4b0036\")>"
      ]
     },
     "execution_count": 12,
     "metadata": {},
     "output_type": "execute_result"
    }
   ],
   "source": [
    "current_elements = driver.find_elements_by_xpath(\"//div[@class='gsc_col-xs-7  carsName']/a\")\n",
    "current_last_element = current_elements[-1]\n",
    "current_last_element"
   ]
  },
  {
   "cell_type": "code",
   "execution_count": 13,
   "metadata": {},
   "outputs": [],
   "source": [
    "actions.move_to_element(current_last_element).perform()"
   ]
  },
  {
   "cell_type": "code",
   "execution_count": 14,
   "metadata": {},
   "outputs": [],
   "source": [
    "current_elements = driver.find_elements_by_xpath(\"//div[@class='gsc_col-xs-7  carsName']/a\")\n",
    "last_element = current_elements[-1]\n",
    "while True:\n",
    "    try: \n",
    "        actions.move_to_element(last_element).perform()\n",
    "        time.sleep(0.5)\n",
    "    except:\n",
    "        break\n",
    "    \n",
    "    cars_element = driver.find_elements_by_xpath(\"//div[@class='gsc_col-xs-7  carsName']/a\")\n",
    "    new_last_element = cars_element[-1]\n",
    "    if new_last_element==last_element:\n",
    "        break\n",
    "    else:\n",
    "        last_element = new_last_element"
   ]
  },
  {
   "cell_type": "code",
   "execution_count": 15,
   "metadata": {},
   "outputs": [
    {
     "name": "stdout",
     "output_type": "stream",
     "text": [
      "551\n"
     ]
    }
   ],
   "source": [
    "print(len(cars_element))"
   ]
  },
  {
   "cell_type": "code",
   "execution_count": null,
   "metadata": {},
   "outputs": [],
   "source": []
  },
  {
   "cell_type": "code",
   "execution_count": 90,
   "metadata": {},
   "outputs": [],
   "source": [
    "cars_url = []\n",
    "locations_list = []    "
   ]
  },
  {
   "cell_type": "code",
   "execution_count": null,
   "metadata": {},
   "outputs": [],
   "source": []
  },
  {
   "cell_type": "code",
   "execution_count": 91,
   "metadata": {
    "collapsed": true
   },
   "outputs": [
    {
     "ename": "NoSuchElementException",
     "evalue": "Message: no such element: Unable to locate element: {\"method\":\"xpath\",\"selector\":\"//div[@class='text-center showMoreButton']\"}\n  (Session info: chrome=96.0.4664.110)\n",
     "output_type": "error",
     "traceback": [
      "\u001b[0;31m---------------------------------------------------------------------------\u001b[0m",
      "\u001b[0;31mNoSuchElementException\u001b[0m                    Traceback (most recent call last)",
      "\u001b[0;32m<ipython-input-91-3fbaa99d206b>\u001b[0m in \u001b[0;36m<module>\u001b[0;34m\u001b[0m\n\u001b[0;32m----> 1\u001b[0;31m \u001b[0mtarget\u001b[0m \u001b[0;34m=\u001b[0m \u001b[0mdriver\u001b[0m\u001b[0;34m.\u001b[0m\u001b[0mfind_element_by_xpath\u001b[0m\u001b[0;34m(\u001b[0m\u001b[0;34m\"//div[@class='text-center showMoreButton']\"\u001b[0m\u001b[0;34m)\u001b[0m\u001b[0;34m\u001b[0m\u001b[0;34m\u001b[0m\u001b[0m\n\u001b[0m\u001b[1;32m      2\u001b[0m \u001b[0mtarget_text\u001b[0m \u001b[0;34m=\u001b[0m \u001b[0mtarget\u001b[0m\u001b[0;34m.\u001b[0m\u001b[0mtext\u001b[0m\u001b[0;34m\u001b[0m\u001b[0;34m\u001b[0m\u001b[0m\n\u001b[1;32m      3\u001b[0m \u001b[0mtarget_text\u001b[0m\u001b[0;34m\u001b[0m\u001b[0;34m\u001b[0m\u001b[0m\n",
      "\u001b[0;32m~/anaconda3/lib/python3.8/site-packages/selenium/webdriver/remote/webdriver.py\u001b[0m in \u001b[0;36mfind_element_by_xpath\u001b[0;34m(self, xpath)\u001b[0m\n\u001b[1;32m    392\u001b[0m             \u001b[0melement\u001b[0m \u001b[0;34m=\u001b[0m \u001b[0mdriver\u001b[0m\u001b[0;34m.\u001b[0m\u001b[0mfind_element_by_xpath\u001b[0m\u001b[0;34m(\u001b[0m\u001b[0;34m'//div/td[1]'\u001b[0m\u001b[0;34m)\u001b[0m\u001b[0;34m\u001b[0m\u001b[0;34m\u001b[0m\u001b[0m\n\u001b[1;32m    393\u001b[0m         \"\"\"\n\u001b[0;32m--> 394\u001b[0;31m         \u001b[0;32mreturn\u001b[0m \u001b[0mself\u001b[0m\u001b[0;34m.\u001b[0m\u001b[0mfind_element\u001b[0m\u001b[0;34m(\u001b[0m\u001b[0mby\u001b[0m\u001b[0;34m=\u001b[0m\u001b[0mBy\u001b[0m\u001b[0;34m.\u001b[0m\u001b[0mXPATH\u001b[0m\u001b[0;34m,\u001b[0m \u001b[0mvalue\u001b[0m\u001b[0;34m=\u001b[0m\u001b[0mxpath\u001b[0m\u001b[0;34m)\u001b[0m\u001b[0;34m\u001b[0m\u001b[0;34m\u001b[0m\u001b[0m\n\u001b[0m\u001b[1;32m    395\u001b[0m \u001b[0;34m\u001b[0m\u001b[0m\n\u001b[1;32m    396\u001b[0m     \u001b[0;32mdef\u001b[0m \u001b[0mfind_elements_by_xpath\u001b[0m\u001b[0;34m(\u001b[0m\u001b[0mself\u001b[0m\u001b[0;34m,\u001b[0m \u001b[0mxpath\u001b[0m\u001b[0;34m)\u001b[0m\u001b[0;34m:\u001b[0m\u001b[0;34m\u001b[0m\u001b[0;34m\u001b[0m\u001b[0m\n",
      "\u001b[0;32m~/anaconda3/lib/python3.8/site-packages/selenium/webdriver/remote/webdriver.py\u001b[0m in \u001b[0;36mfind_element\u001b[0;34m(self, by, value)\u001b[0m\n\u001b[1;32m    974\u001b[0m                 \u001b[0mby\u001b[0m \u001b[0;34m=\u001b[0m \u001b[0mBy\u001b[0m\u001b[0;34m.\u001b[0m\u001b[0mCSS_SELECTOR\u001b[0m\u001b[0;34m\u001b[0m\u001b[0;34m\u001b[0m\u001b[0m\n\u001b[1;32m    975\u001b[0m                 \u001b[0mvalue\u001b[0m \u001b[0;34m=\u001b[0m \u001b[0;34m'[name=\"%s\"]'\u001b[0m \u001b[0;34m%\u001b[0m \u001b[0mvalue\u001b[0m\u001b[0;34m\u001b[0m\u001b[0;34m\u001b[0m\u001b[0m\n\u001b[0;32m--> 976\u001b[0;31m         return self.execute(Command.FIND_ELEMENT, {\n\u001b[0m\u001b[1;32m    977\u001b[0m             \u001b[0;34m'using'\u001b[0m\u001b[0;34m:\u001b[0m \u001b[0mby\u001b[0m\u001b[0;34m,\u001b[0m\u001b[0;34m\u001b[0m\u001b[0;34m\u001b[0m\u001b[0m\n\u001b[1;32m    978\u001b[0m             'value': value})['value']\n",
      "\u001b[0;32m~/anaconda3/lib/python3.8/site-packages/selenium/webdriver/remote/webdriver.py\u001b[0m in \u001b[0;36mexecute\u001b[0;34m(self, driver_command, params)\u001b[0m\n\u001b[1;32m    319\u001b[0m         \u001b[0mresponse\u001b[0m \u001b[0;34m=\u001b[0m \u001b[0mself\u001b[0m\u001b[0;34m.\u001b[0m\u001b[0mcommand_executor\u001b[0m\u001b[0;34m.\u001b[0m\u001b[0mexecute\u001b[0m\u001b[0;34m(\u001b[0m\u001b[0mdriver_command\u001b[0m\u001b[0;34m,\u001b[0m \u001b[0mparams\u001b[0m\u001b[0;34m)\u001b[0m\u001b[0;34m\u001b[0m\u001b[0;34m\u001b[0m\u001b[0m\n\u001b[1;32m    320\u001b[0m         \u001b[0;32mif\u001b[0m \u001b[0mresponse\u001b[0m\u001b[0;34m:\u001b[0m\u001b[0;34m\u001b[0m\u001b[0;34m\u001b[0m\u001b[0m\n\u001b[0;32m--> 321\u001b[0;31m             \u001b[0mself\u001b[0m\u001b[0;34m.\u001b[0m\u001b[0merror_handler\u001b[0m\u001b[0;34m.\u001b[0m\u001b[0mcheck_response\u001b[0m\u001b[0;34m(\u001b[0m\u001b[0mresponse\u001b[0m\u001b[0;34m)\u001b[0m\u001b[0;34m\u001b[0m\u001b[0;34m\u001b[0m\u001b[0m\n\u001b[0m\u001b[1;32m    322\u001b[0m             response['value'] = self._unwrap_value(\n\u001b[1;32m    323\u001b[0m                 response.get('value', None))\n",
      "\u001b[0;32m~/anaconda3/lib/python3.8/site-packages/selenium/webdriver/remote/errorhandler.py\u001b[0m in \u001b[0;36mcheck_response\u001b[0;34m(self, response)\u001b[0m\n\u001b[1;32m    240\u001b[0m                 \u001b[0malert_text\u001b[0m \u001b[0;34m=\u001b[0m \u001b[0mvalue\u001b[0m\u001b[0;34m[\u001b[0m\u001b[0;34m'alert'\u001b[0m\u001b[0;34m]\u001b[0m\u001b[0;34m.\u001b[0m\u001b[0mget\u001b[0m\u001b[0;34m(\u001b[0m\u001b[0;34m'text'\u001b[0m\u001b[0;34m)\u001b[0m\u001b[0;34m\u001b[0m\u001b[0;34m\u001b[0m\u001b[0m\n\u001b[1;32m    241\u001b[0m             \u001b[0;32mraise\u001b[0m \u001b[0mexception_class\u001b[0m\u001b[0;34m(\u001b[0m\u001b[0mmessage\u001b[0m\u001b[0;34m,\u001b[0m \u001b[0mscreen\u001b[0m\u001b[0;34m,\u001b[0m \u001b[0mstacktrace\u001b[0m\u001b[0;34m,\u001b[0m \u001b[0malert_text\u001b[0m\u001b[0;34m)\u001b[0m\u001b[0;34m\u001b[0m\u001b[0;34m\u001b[0m\u001b[0m\n\u001b[0;32m--> 242\u001b[0;31m         \u001b[0;32mraise\u001b[0m \u001b[0mexception_class\u001b[0m\u001b[0;34m(\u001b[0m\u001b[0mmessage\u001b[0m\u001b[0;34m,\u001b[0m \u001b[0mscreen\u001b[0m\u001b[0;34m,\u001b[0m \u001b[0mstacktrace\u001b[0m\u001b[0;34m)\u001b[0m\u001b[0;34m\u001b[0m\u001b[0;34m\u001b[0m\u001b[0m\n\u001b[0m\u001b[1;32m    243\u001b[0m \u001b[0;34m\u001b[0m\u001b[0m\n\u001b[1;32m    244\u001b[0m     \u001b[0;32mdef\u001b[0m \u001b[0m_value_or_default\u001b[0m\u001b[0;34m(\u001b[0m\u001b[0mself\u001b[0m\u001b[0;34m,\u001b[0m \u001b[0mobj\u001b[0m\u001b[0;34m,\u001b[0m \u001b[0mkey\u001b[0m\u001b[0;34m,\u001b[0m \u001b[0mdefault\u001b[0m\u001b[0;34m)\u001b[0m\u001b[0;34m:\u001b[0m\u001b[0;34m\u001b[0m\u001b[0;34m\u001b[0m\u001b[0m\n",
      "\u001b[0;31mNoSuchElementException\u001b[0m: Message: no such element: Unable to locate element: {\"method\":\"xpath\",\"selector\":\"//div[@class='text-center showMoreButton']\"}\n  (Session info: chrome=96.0.4664.110)\n"
     ]
    }
   ],
   "source": [
    "target = driver.find_element_by_xpath(\"//div[@class='text-center showMoreButton']\")\n",
    "target_text = target.text\n",
    "target_text"
   ]
  },
  {
   "cell_type": "code",
   "execution_count": 92,
   "metadata": {},
   "outputs": [],
   "source": [
    "driver.close()\n",
    "driver = webdriver.Chrome(\"/usr/lib/chromium-browser/chromedriver\")"
   ]
  },
  {
   "cell_type": "code",
   "execution_count": 93,
   "metadata": {},
   "outputs": [],
   "source": [
    "driver.get(location_urls[0])\n",
    "time.sleep(0.5)"
   ]
  },
  {
   "cell_type": "code",
   "execution_count": 94,
   "metadata": {},
   "outputs": [],
   "source": [
    "actions = ActionChains(driver)"
   ]
  },
  {
   "cell_type": "code",
   "execution_count": 95,
   "metadata": {},
   "outputs": [
    {
     "name": "stdout",
     "output_type": "stream",
     "text": [
      "340\n",
      "1521\n",
      "802\n",
      "3192\n",
      "937\n",
      "812\n",
      "421\n",
      "676\n",
      "2330\n",
      "2802\n",
      "893\n",
      "1240\n"
     ]
    }
   ],
   "source": [
    "for i in range(len(location_list)):\n",
    "    \n",
    "    current_elements = driver.find_elements_by_xpath(\"//div[@class='gsc_col-xs-7  carsName']/a\")\n",
    "    last_element = current_elements[-1]\n",
    "    while True:\n",
    "        try: \n",
    "            actions.move_to_element(last_element).perform()\n",
    "            time.sleep(1)\n",
    "        except:\n",
    "            break\n",
    "    \n",
    "        cars_element = driver.find_elements_by_xpath(\"//div[@class='gsc_col-xs-7  carsName']/a\")\n",
    "        new_last_element = cars_element[-1]\n",
    "        if new_last_element==last_element:\n",
    "            print(len(cars_element))\n",
    "            for j in cars_element:\n",
    "                cars_url.append(j.get_attribute('href'))\n",
    "                locations_list.append(location_list[i])\n",
    "            break\n",
    "        else:\n",
    "            last_element = new_last_element\n",
    "    \n",
    "    if i<len(location_list)-1:\n",
    "        driver.get(location_urls[i+1])\n",
    "        time.sleep(0.5)\n",
    "        actions = ActionChains(driver)\n",
    "    else:\n",
    "        break\n",
    "        "
   ]
  },
  {
   "cell_type": "code",
   "execution_count": null,
   "metadata": {},
   "outputs": [],
   "source": [
    "print(len(cars_element))"
   ]
  },
  {
   "cell_type": "code",
   "execution_count": 96,
   "metadata": {},
   "outputs": [
    {
     "name": "stdout",
     "output_type": "stream",
     "text": [
      "15966\n",
      "15966\n"
     ]
    }
   ],
   "source": [
    "print(len(cars_url))\n",
    "print(len(locations_list))"
   ]
  },
  {
   "cell_type": "code",
   "execution_count": null,
   "metadata": {},
   "outputs": [],
   "source": []
  },
  {
   "cell_type": "code",
   "execution_count": null,
   "metadata": {},
   "outputs": [],
   "source": []
  },
  {
   "cell_type": "code",
   "execution_count": null,
   "metadata": {},
   "outputs": [],
   "source": [
    "brand_model_element = driver.find_element_by_xpath(\"//div[@class='paddingBorder clearfix']/div/h1\")\n",
    "variant_element = driver.find_element_by_xpath(\"//div[@class='paddingBorder clearfix']/div/div\")\n",
    "mf_yr_element = driver.find_element_by_xpath(\"//ul[@class='gsc_row detailsList']/li[1]/div/div[2]\")\n",
    "engine_element = driver.find_element_by_xpath(\"//ul[@class='gsc_row detailsList']/li[5]/div/div[2]\")\n",
    "transmission_element = driver.find_element_by_xpath(\"//ul[@class='gsc_row detailsList']/li[8]/div/div[2]\")\n",
    "driven_kms_element =  driver.find_element_by_xpath(\"//ul[@class='gsc_row detailsList']/li[4]/div/div[2]\")\n",
    "fuel_element = driver.find_element_by_xpath(\"//ul[@class='gsc_row detailsList']/li[3]/div/div[2]\")\n",
    "no_owners_element = driver.find_element_by_xpath(\"//ul[@class='gsc_row detailsList']/li[6]/div/div[2]\")\n",
    "carPrice_element = driver.find_element_by_xpath(\"//div[@class='priceSection']/span[2]\")"
   ]
  },
  {
   "cell_type": "code",
   "execution_count": null,
   "metadata": {},
   "outputs": [],
   "source": [
    "brand_model = brand_model_element.text\n",
    "brand_model = brand_model.split()\n",
    "brand_name = brand_model[1]\n",
    "model_name = brand_model[2:]\n",
    "model_name = ' '.join(model_name)\n",
    "variant_name = variant_element.text\n",
    "mf_yr = mf_yr_element.text\n",
    "engine = int(engine_element.text.replace(\" cc\",\"\"))\n",
    "transmission = transmission_element.text\n",
    "driven_kms = int(driven_kms_element.text.replace(\" Kms\",\"\").replace(\",\",\"\"))\n",
    "fuel = fuel_element.text\n",
    "no_owners = no_owners_element.text\n",
    "location = location_list[0]\n",
    "carPrice = int(carPrice_element.text.replace(\",\",\"\"))"
   ]
  },
  {
   "cell_type": "code",
   "execution_count": null,
   "metadata": {},
   "outputs": [],
   "source": [
    "print(brand_name)\n",
    "print(model_name)\n",
    "print(variant_name)\n",
    "print(mf_yr)\n",
    "print(engine)\n",
    "print(transmission)\n",
    "print(driven_kms)\n",
    "print(fuel)\n",
    "print(no_owners)\n",
    "print(location)\n",
    "print(carPrice)"
   ]
  },
  {
   "cell_type": "code",
   "execution_count": null,
   "metadata": {},
   "outputs": [],
   "source": [
    "driver.get(cars_url[0])\n"
   ]
  },
  {
   "cell_type": "code",
   "execution_count": null,
   "metadata": {},
   "outputs": [],
   "source": [
    "driver.maximize_window()\n",
    "try:\n",
    "    view_spec_btn = driver.find_element_by_xpath(\"//div[@class='usedSpecFeatureBoxs ']/div[2]/a\")\n",
    "except:\n",
    "    view_spec_btn = driver.find_element_by_xpath(\"//div[@class='hover whatsappShare margt25 shareButton']\")\n",
    "\n",
    "view_spec_btn.click()"
   ]
  },
  {
   "cell_type": "code",
   "execution_count": null,
   "metadata": {},
   "outputs": [],
   "source": []
  },
  {
   "cell_type": "code",
   "execution_count": 97,
   "metadata": {},
   "outputs": [],
   "source": [
    "brand_list = []\n",
    "model_list = []\n",
    "mf_yr_list = []\n",
    "engine_list = []\n",
    "transmission_list = []\n",
    "driven_kms_list = []\n",
    "fuel_list = []\n",
    "no_owners_list = []\n",
    "mileage_list = []\n",
    "maxPower_list = []\n",
    "torque_list = []\n",
    "carPrice_list = []"
   ]
  },
  {
   "cell_type": "code",
   "execution_count": 98,
   "metadata": {},
   "outputs": [],
   "source": [
    "not_much_specs = []"
   ]
  },
  {
   "cell_type": "code",
   "execution_count": 99,
   "metadata": {},
   "outputs": [],
   "source": [
    "driver = webdriver.Chrome(\"/usr/lib/chromium-browser/chromedriver\")\n",
    "brand_model_list = []\n",
    "driver.maximize_window()\n",
    "for i in cars_url:\n",
    "    driver.get(i)\n",
    "    time.sleep(0.5)\n",
    "    try:\n",
    "        view_spec_btn = driver.find_element_by_xpath(\"//div[@class='usedSpecFeatureBoxs ']/div[2]/a\")\n",
    "        view_spec_btn.click()\n",
    "    except:\n",
    "        try:\n",
    "            view_spec_btn = driver.find_element_by_xpath(\"//div[@class='hover whatsappShare margt25 shareButton']\")\n",
    "            view_spec_btn.click()\n",
    "        except:\n",
    "            not_much_specs.append(i)\n",
    "    \n",
    "    try:\n",
    "        brand_model_element = driver.find_element_by_xpath(\"//div[@class='paddingBorder clearfix']/div/h1\")\n",
    "        brand_model_list.append(brand_model_element.text)\n",
    "    except:\n",
    "        try:\n",
    "            brand_model_element = driver.find_element_by_xpath(\"//div[@class='vdp-head']/h1[2]\")\n",
    "            brand_model_list.append(brand_model_element.text)\n",
    "        except:\n",
    "            brand_model_list.append(\"NaN\")\n",
    "        \n",
    "    try:\n",
    "        mf_yr_element = driver.find_element_by_xpath(\"//ul[@class='gsc_row detailsList']/li[1]/div/div[2]\")\n",
    "        mf_yr_list.append(mf_yr_element.text)\n",
    "    except:\n",
    "        try:\n",
    "            mf_yr_element = driver.find_element_by_xpath(\"//ul[@class='gsc_row clearfix']/li[1]/div/div\")\n",
    "            mf_yr_list.append(mf_yr_element.text)\n",
    "        except:\n",
    "            mf_yr_list.append(\"NaN\")\n",
    "    \n",
    "    try:\n",
    "        engine_element = driver.find_element_by_xpath(\"//ul[@class='gsc_row detailsList']/li[5]/div/div[2]\")\n",
    "        engine_list.append(engine_element.text)\n",
    "    except:\n",
    "        try:\n",
    "            engine_element = driver.find_element_by_xpath(\"//ul[@class='gsc_row']/li/div[contains(text(),\\'Engine')]/ancestor::li/div[2]\")\n",
    "            engine_list.append(engine_element.text)\n",
    "        except:\n",
    "            engine_list.append(\"NaN\")\n",
    "        \n",
    "    try:\n",
    "        transmission_element = driver.find_element_by_xpath(\"//ul[@class='gsc_row detailsList']/li[8]/div/div[2]\")\n",
    "        transmission_list.append(transmission_element.text)\n",
    "    except:\n",
    "        try:\n",
    "            transmission_element = driver.find_element_by_xpath(\"//ul[@class='gsc_row clearfix']/li[6]/div/div\")\n",
    "            transmission_list.append(transmission_element.text)\n",
    "        except:\n",
    "            transmission_list.append(\"NaN\")\n",
    "    \n",
    "    try:\n",
    "        driven_kms_element =  driver.find_element_by_xpath(\"//ul[@class='gsc_row detailsList']/li[4]/div/div[2]\")\n",
    "        driven_kms_list.append(driven_kms_element.text)\n",
    "    except:\n",
    "        try:\n",
    "            driven_kms_element =  driver.find_element_by_xpath(\"//ul[@class='gsc_row clearfix']/li[3]/div/div\")\n",
    "            driven_kms_list.append(driven_kms_element.text)\n",
    "        except:\n",
    "            driven_kms_list.append(\"NaN\")\n",
    "    \n",
    "    try:\n",
    "        fuel_element = driver.find_element_by_xpath(\"//ul[@class='gsc_row detailsList']/li[3]/div/div[2]\")\n",
    "        fuel_list.append(fuel_element.text)\n",
    "    except:\n",
    "        try:\n",
    "            fuel_element = driver.find_element_by_xpath(\"//ul[@class='gsc_row clearfix']/li[5]/div/div\")\n",
    "            fuel_list.append(fuel_element.text)\n",
    "        except:\n",
    "            fuel_list.append(\"NaN\")\n",
    "    \n",
    "    try:\n",
    "        no_owners_element = driver.find_element_by_xpath(\"//ul[@class='gsc_row detailsList']/li[6]/div/div[2]\")\n",
    "        no_owners_list.append(no_owners_element.text)\n",
    "    except:\n",
    "        try:\n",
    "            no_owners_element = driver.find_element_by_xpath(\"//ul[@class='gsc_row clearfix']/li[4]/div/div\")\n",
    "            no_owners_list.append(no_owners_element.text)\n",
    "        except:\n",
    "            no_owners_list.append(\"NaN\")\n",
    "    \n",
    "    try:\n",
    "        mileage_element = driver.find_element_by_xpath(\"//div[@id='specification-wdght']/div/div/div/ul/li[1]/div/div[2]\")\n",
    "        mileage_list.append(mileage_element.text)\n",
    "    except:\n",
    "        try:\n",
    "            mileage_element = driver.find_element_by_xpath(\"//section[@class='SpecData']/div/div/ul/li[1]/div[2]\")\n",
    "            mileage_list.append(mileage_element.text)\n",
    "        except:\n",
    "            mileage_list.append(\"NaN\")\n",
    "    \n",
    "## Change the first try block according to the page\n",
    "    try:\n",
    "        maxPower_element = driver.find_element_by_xpath(\"//div[@id='specification-wdght']/div/div/div/ul/li[3]/div/div[2]\")\n",
    "        maxPower_list.append(maxPower_element.text)\n",
    "    except:\n",
    "        try:\n",
    "            maxPower_element = driver.find_element_by_xpath(\"//section[@class='SpecData']/div/div/ul/li[3]/div[2]\")\n",
    "            maxPower_list.append(maxPower_element.text)\n",
    "        except:\n",
    "            maxPower_list.append(\"NaN\")\n",
    "    \n",
    "    try:\n",
    "        torque_element = driver.find_element_by_xpath(\"//div[@id='specification-wdght']/div/div/div/ul/li[4]/div/div[2]\")\n",
    "        torque_list.append(torque_element.text)\n",
    "    except:\n",
    "        try:\n",
    "            torque_element = driver.find_element_by_xpath(\"//section[@class='SpecData']/div/div/ul/li[4]/div[2]\")\n",
    "            torque_list.append(torque_element.text)\n",
    "        except:\n",
    "            torque_list.append(\"NaN\")\n",
    "    \n",
    "    try:\n",
    "        carPrice_element = driver.find_element_by_xpath(\"//div[@class='priceSection']/span[2]\")\n",
    "        carPrice_list.append(carPrice_element.text)\n",
    "    except:\n",
    "        try:\n",
    "            carPrice_element = driver.find_element_by_xpath(\"//span[@class='amount']\")\n",
    "            carPrice_list.append(carPrice_element.text)\n",
    "        except:\n",
    "            carPrice_list.append(\"NaN\")"
   ]
  },
  {
   "cell_type": "code",
   "execution_count": 109,
   "metadata": {},
   "outputs": [],
   "source": [
    "df = pd.DataFrame({})\n",
    "df[\"Brand_Model\"] = brand_model_list\n",
    "df[\"Manufacturing Yr\"] = mf_yr_list\n",
    "df[\"Engine\"] = engine_list\n",
    "df[\"Transmission\"] = transmission_list\n",
    "df[\"Driven_kms\"] = driven_kms_list\n",
    "df[\"Fuel Type\"] = fuel_list\n",
    "df[\"No. Owners\"] = no_owners_list\n",
    "df[\"Mileage\"] = mileage_list\n",
    "df[\"Power\"] = maxPower_list\n",
    "df[\"Torque\"] = torque_list\n",
    "df[\"location\"] = locations_list\n",
    "df[\"Price\"] = carPrice_list"
   ]
  },
  {
   "cell_type": "code",
   "execution_count": 110,
   "metadata": {},
   "outputs": [
    {
     "data": {
      "text/plain": [
       "15965"
      ]
     },
     "execution_count": 110,
     "metadata": {},
     "output_type": "execute_result"
    }
   ],
   "source": [
    "indexes_df = list(df.index)\n",
    "indexes_df[-1]"
   ]
  },
  {
   "cell_type": "code",
   "execution_count": 111,
   "metadata": {},
   "outputs": [
    {
     "data": {
      "text/html": [
       "<div>\n",
       "<style scoped>\n",
       "    .dataframe tbody tr th:only-of-type {\n",
       "        vertical-align: middle;\n",
       "    }\n",
       "\n",
       "    .dataframe tbody tr th {\n",
       "        vertical-align: top;\n",
       "    }\n",
       "\n",
       "    .dataframe thead th {\n",
       "        text-align: right;\n",
       "    }\n",
       "</style>\n",
       "<table border=\"1\" class=\"dataframe\">\n",
       "  <thead>\n",
       "    <tr style=\"text-align: right;\">\n",
       "      <th></th>\n",
       "      <th>Brand_Model</th>\n",
       "      <th>Manufacturing Yr</th>\n",
       "      <th>Engine</th>\n",
       "      <th>Transmission</th>\n",
       "      <th>Driven_kms</th>\n",
       "      <th>Fuel Type</th>\n",
       "      <th>No. Owners</th>\n",
       "      <th>Mileage</th>\n",
       "      <th>Power</th>\n",
       "      <th>Torque</th>\n",
       "      <th>location</th>\n",
       "      <th>Price</th>\n",
       "    </tr>\n",
       "  </thead>\n",
       "  <tbody>\n",
       "    <tr>\n",
       "      <th>0</th>\n",
       "      <td>2019 Volkswagen Vento</td>\n",
       "      <td>2018</td>\n",
       "      <td>1498 cc</td>\n",
       "      <td>Manual</td>\n",
       "      <td>98,027 Kms</td>\n",
       "      <td>Diesel</td>\n",
       "      <td>1st Owner</td>\n",
       "      <td>22.27 kmpl</td>\n",
       "      <td>108.6bhp</td>\n",
       "      <td>250Nm</td>\n",
       "      <td>Ahmedabad</td>\n",
       "      <td>6,99,000</td>\n",
       "    </tr>\n",
       "    <tr>\n",
       "      <th>1</th>\n",
       "      <td>2017 Maruti Baleno</td>\n",
       "      <td>2017</td>\n",
       "      <td>1197 cc</td>\n",
       "      <td>Manual</td>\n",
       "      <td>34,706 Kms</td>\n",
       "      <td>Petrol</td>\n",
       "      <td>1st Owner</td>\n",
       "      <td>21.01 kmpl</td>\n",
       "      <td>81.80bhp</td>\n",
       "      <td>113Nm</td>\n",
       "      <td>Ahmedabad</td>\n",
       "      <td>5,20,000</td>\n",
       "    </tr>\n",
       "    <tr>\n",
       "      <th>2</th>\n",
       "      <td>2017 Maruti Wagon R</td>\n",
       "      <td>2017</td>\n",
       "      <td>998 cc</td>\n",
       "      <td>Automatic</td>\n",
       "      <td>41,220 Kms</td>\n",
       "      <td>Petrol</td>\n",
       "      <td>1st Owner</td>\n",
       "      <td>20.51 kmpl</td>\n",
       "      <td>67bhp</td>\n",
       "      <td>90Nm</td>\n",
       "      <td>Ahmedabad</td>\n",
       "      <td>4,25,000</td>\n",
       "    </tr>\n",
       "    <tr>\n",
       "      <th>3</th>\n",
       "      <td>2020 Maruti Swift Dzire</td>\n",
       "      <td>2019</td>\n",
       "      <td>1197 cc</td>\n",
       "      <td>Manual</td>\n",
       "      <td>9,379 Kms</td>\n",
       "      <td>Petrol</td>\n",
       "      <td>1st Owner</td>\n",
       "      <td>22 kmpl</td>\n",
       "      <td>81.80bhp</td>\n",
       "      <td>113Nm</td>\n",
       "      <td>Ahmedabad</td>\n",
       "      <td>6,75,000</td>\n",
       "    </tr>\n",
       "    <tr>\n",
       "      <th>4</th>\n",
       "      <td>2020 Maruti Wagon R</td>\n",
       "      <td>2020</td>\n",
       "      <td>998 cc</td>\n",
       "      <td>Manual</td>\n",
       "      <td>10,412 Kms</td>\n",
       "      <td>Petrol</td>\n",
       "      <td>1st Owner</td>\n",
       "      <td>21.79 kmpl</td>\n",
       "      <td>67.05bhp</td>\n",
       "      <td>90Nm</td>\n",
       "      <td>Ahmedabad</td>\n",
       "      <td>4,80,000</td>\n",
       "    </tr>\n",
       "    <tr>\n",
       "      <th>...</th>\n",
       "      <td>...</td>\n",
       "      <td>...</td>\n",
       "      <td>...</td>\n",
       "      <td>...</td>\n",
       "      <td>...</td>\n",
       "      <td>...</td>\n",
       "      <td>...</td>\n",
       "      <td>...</td>\n",
       "      <td>...</td>\n",
       "      <td>...</td>\n",
       "      <td>...</td>\n",
       "      <td>...</td>\n",
       "    </tr>\n",
       "    <tr>\n",
       "      <th>15961</th>\n",
       "      <td>Tata Indigo Classic Dicor</td>\n",
       "      <td>2008</td>\n",
       "      <td>1396 CC</td>\n",
       "      <td>Manual</td>\n",
       "      <td>1,20,000 kms</td>\n",
       "      <td>Diesel</td>\n",
       "      <td>Fourth &amp; Above Owner</td>\n",
       "      <td>23.57 kmpl</td>\n",
       "      <td>70 bhp</td>\n",
       "      <td>140Nm@ 1800-3000rpm</td>\n",
       "      <td>Pune</td>\n",
       "      <td>1.25 Lakh*</td>\n",
       "    </tr>\n",
       "    <tr>\n",
       "      <th>15962</th>\n",
       "      <td>Hyundai Grand i10 Nios Sportz CNG</td>\n",
       "      <td>2020</td>\n",
       "      <td>1197 CC</td>\n",
       "      <td>Manual</td>\n",
       "      <td>40,000 kms</td>\n",
       "      <td>CNG</td>\n",
       "      <td>First Owner</td>\n",
       "      <td>0.0 km/kg</td>\n",
       "      <td>68.05 bhp</td>\n",
       "      <td>95.12Nm@ 4000rpm</td>\n",
       "      <td>Pune</td>\n",
       "      <td>7.5 Lakh*</td>\n",
       "    </tr>\n",
       "    <tr>\n",
       "      <th>15963</th>\n",
       "      <td>Maruti Swift VXI Deca</td>\n",
       "      <td>2016</td>\n",
       "      <td>1197 CC</td>\n",
       "      <td>Manual</td>\n",
       "      <td>34,000 kms</td>\n",
       "      <td>Petrol</td>\n",
       "      <td>First Owner</td>\n",
       "      <td>20.4 kmpl</td>\n",
       "      <td>81.80 bhp</td>\n",
       "      <td>113Nm@ 4200rpm</td>\n",
       "      <td>Pune</td>\n",
       "      <td>5.5 Lakh*</td>\n",
       "    </tr>\n",
       "    <tr>\n",
       "      <th>15964</th>\n",
       "      <td>Maruti Baleno LXI</td>\n",
       "      <td>2004</td>\n",
       "      <td>1590 CC</td>\n",
       "      <td>Manual</td>\n",
       "      <td>60,000 kms</td>\n",
       "      <td>Petrol</td>\n",
       "      <td>Third Owner</td>\n",
       "      <td>15.4 kmpl</td>\n",
       "      <td>94 bhp</td>\n",
       "      <td>130Nm@ 3000rpm</td>\n",
       "      <td>Pune</td>\n",
       "      <td>75,000*</td>\n",
       "    </tr>\n",
       "    <tr>\n",
       "      <th>15965</th>\n",
       "      <td>Skoda Laura 1.8 TSI Ambiente</td>\n",
       "      <td>2011</td>\n",
       "      <td>1798 CC</td>\n",
       "      <td>Manual</td>\n",
       "      <td>50,000 kms</td>\n",
       "      <td>Petrol</td>\n",
       "      <td>Third Owner</td>\n",
       "      <td>13.4 kmpl</td>\n",
       "      <td>157.8 bhp</td>\n",
       "      <td>250Nm@ 1500-4500rpm</td>\n",
       "      <td>Pune</td>\n",
       "      <td>2.5 Lakh*</td>\n",
       "    </tr>\n",
       "  </tbody>\n",
       "</table>\n",
       "<p>15966 rows × 12 columns</p>\n",
       "</div>"
      ],
      "text/plain": [
       "                             Brand_Model Manufacturing Yr   Engine  \\\n",
       "0                  2019 Volkswagen Vento             2018  1498 cc   \n",
       "1                     2017 Maruti Baleno             2017  1197 cc   \n",
       "2                    2017 Maruti Wagon R             2017   998 cc   \n",
       "3                2020 Maruti Swift Dzire             2019  1197 cc   \n",
       "4                    2020 Maruti Wagon R             2020   998 cc   \n",
       "...                                  ...              ...      ...   \n",
       "15961          Tata Indigo Classic Dicor             2008  1396 CC   \n",
       "15962  Hyundai Grand i10 Nios Sportz CNG             2020  1197 CC   \n",
       "15963              Maruti Swift VXI Deca             2016  1197 CC   \n",
       "15964                  Maruti Baleno LXI             2004  1590 CC   \n",
       "15965       Skoda Laura 1.8 TSI Ambiente             2011  1798 CC   \n",
       "\n",
       "      Transmission    Driven_kms Fuel Type            No. Owners     Mileage  \\\n",
       "0           Manual    98,027 Kms    Diesel             1st Owner  22.27 kmpl   \n",
       "1           Manual    34,706 Kms    Petrol             1st Owner  21.01 kmpl   \n",
       "2        Automatic    41,220 Kms    Petrol             1st Owner  20.51 kmpl   \n",
       "3           Manual     9,379 Kms    Petrol             1st Owner     22 kmpl   \n",
       "4           Manual    10,412 Kms    Petrol             1st Owner  21.79 kmpl   \n",
       "...            ...           ...       ...                   ...         ...   \n",
       "15961       Manual  1,20,000 kms    Diesel  Fourth & Above Owner  23.57 kmpl   \n",
       "15962       Manual    40,000 kms       CNG           First Owner   0.0 km/kg   \n",
       "15963       Manual    34,000 kms    Petrol           First Owner   20.4 kmpl   \n",
       "15964       Manual    60,000 kms    Petrol           Third Owner   15.4 kmpl   \n",
       "15965       Manual    50,000 kms    Petrol           Third Owner   13.4 kmpl   \n",
       "\n",
       "           Power               Torque   location       Price  \n",
       "0       108.6bhp                250Nm  Ahmedabad    6,99,000  \n",
       "1       81.80bhp                113Nm  Ahmedabad    5,20,000  \n",
       "2          67bhp                 90Nm  Ahmedabad    4,25,000  \n",
       "3       81.80bhp                113Nm  Ahmedabad    6,75,000  \n",
       "4       67.05bhp                 90Nm  Ahmedabad    4,80,000  \n",
       "...          ...                  ...        ...         ...  \n",
       "15961     70 bhp  140Nm@ 1800-3000rpm       Pune  1.25 Lakh*  \n",
       "15962  68.05 bhp     95.12Nm@ 4000rpm       Pune   7.5 Lakh*  \n",
       "15963  81.80 bhp       113Nm@ 4200rpm       Pune   5.5 Lakh*  \n",
       "15964     94 bhp       130Nm@ 3000rpm       Pune     75,000*  \n",
       "15965  157.8 bhp  250Nm@ 1500-4500rpm       Pune   2.5 Lakh*  \n",
       "\n",
       "[15966 rows x 12 columns]"
      ]
     },
     "execution_count": 111,
     "metadata": {},
     "output_type": "execute_result"
    }
   ],
   "source": [
    "df"
   ]
  },
  {
   "cell_type": "code",
   "execution_count": 112,
   "metadata": {},
   "outputs": [
    {
     "data": {
      "text/html": [
       "<div>\n",
       "<style scoped>\n",
       "    .dataframe tbody tr th:only-of-type {\n",
       "        vertical-align: middle;\n",
       "    }\n",
       "\n",
       "    .dataframe tbody tr th {\n",
       "        vertical-align: top;\n",
       "    }\n",
       "\n",
       "    .dataframe thead th {\n",
       "        text-align: right;\n",
       "    }\n",
       "</style>\n",
       "<table border=\"1\" class=\"dataframe\">\n",
       "  <thead>\n",
       "    <tr style=\"text-align: right;\">\n",
       "      <th></th>\n",
       "      <th>Brand_Model</th>\n",
       "      <th>Manufacturing Yr</th>\n",
       "      <th>Engine</th>\n",
       "      <th>Transmission</th>\n",
       "      <th>Driven_kms</th>\n",
       "      <th>Fuel Type</th>\n",
       "      <th>No. Owners</th>\n",
       "      <th>Mileage</th>\n",
       "      <th>Power</th>\n",
       "      <th>Torque</th>\n",
       "      <th>location</th>\n",
       "      <th>Price</th>\n",
       "    </tr>\n",
       "  </thead>\n",
       "  <tbody>\n",
       "    <tr>\n",
       "      <th>0</th>\n",
       "      <td>2019 Volkswagen Vento</td>\n",
       "      <td>2018</td>\n",
       "      <td>1498 cc</td>\n",
       "      <td>Manual</td>\n",
       "      <td>98,027 Kms</td>\n",
       "      <td>Diesel</td>\n",
       "      <td>1st Owner</td>\n",
       "      <td>22.27 kmpl</td>\n",
       "      <td>108.6bhp</td>\n",
       "      <td>250Nm</td>\n",
       "      <td>Ahmedabad</td>\n",
       "      <td>6,99,000</td>\n",
       "    </tr>\n",
       "    <tr>\n",
       "      <th>1</th>\n",
       "      <td>2017 Maruti Baleno</td>\n",
       "      <td>2017</td>\n",
       "      <td>1197 cc</td>\n",
       "      <td>Manual</td>\n",
       "      <td>34,706 Kms</td>\n",
       "      <td>Petrol</td>\n",
       "      <td>1st Owner</td>\n",
       "      <td>21.01 kmpl</td>\n",
       "      <td>81.80bhp</td>\n",
       "      <td>113Nm</td>\n",
       "      <td>Ahmedabad</td>\n",
       "      <td>5,20,000</td>\n",
       "    </tr>\n",
       "    <tr>\n",
       "      <th>2</th>\n",
       "      <td>2017 Maruti Wagon R</td>\n",
       "      <td>2017</td>\n",
       "      <td>998 cc</td>\n",
       "      <td>Automatic</td>\n",
       "      <td>41,220 Kms</td>\n",
       "      <td>Petrol</td>\n",
       "      <td>1st Owner</td>\n",
       "      <td>20.51 kmpl</td>\n",
       "      <td>67bhp</td>\n",
       "      <td>90Nm</td>\n",
       "      <td>Ahmedabad</td>\n",
       "      <td>4,25,000</td>\n",
       "    </tr>\n",
       "    <tr>\n",
       "      <th>3</th>\n",
       "      <td>2020 Maruti Swift Dzire</td>\n",
       "      <td>2019</td>\n",
       "      <td>1197 cc</td>\n",
       "      <td>Manual</td>\n",
       "      <td>9,379 Kms</td>\n",
       "      <td>Petrol</td>\n",
       "      <td>1st Owner</td>\n",
       "      <td>22 kmpl</td>\n",
       "      <td>81.80bhp</td>\n",
       "      <td>113Nm</td>\n",
       "      <td>Ahmedabad</td>\n",
       "      <td>6,75,000</td>\n",
       "    </tr>\n",
       "    <tr>\n",
       "      <th>4</th>\n",
       "      <td>2020 Maruti Wagon R</td>\n",
       "      <td>2020</td>\n",
       "      <td>998 cc</td>\n",
       "      <td>Manual</td>\n",
       "      <td>10,412 Kms</td>\n",
       "      <td>Petrol</td>\n",
       "      <td>1st Owner</td>\n",
       "      <td>21.79 kmpl</td>\n",
       "      <td>67.05bhp</td>\n",
       "      <td>90Nm</td>\n",
       "      <td>Ahmedabad</td>\n",
       "      <td>4,80,000</td>\n",
       "    </tr>\n",
       "    <tr>\n",
       "      <th>...</th>\n",
       "      <td>...</td>\n",
       "      <td>...</td>\n",
       "      <td>...</td>\n",
       "      <td>...</td>\n",
       "      <td>...</td>\n",
       "      <td>...</td>\n",
       "      <td>...</td>\n",
       "      <td>...</td>\n",
       "      <td>...</td>\n",
       "      <td>...</td>\n",
       "      <td>...</td>\n",
       "      <td>...</td>\n",
       "    </tr>\n",
       "    <tr>\n",
       "      <th>15961</th>\n",
       "      <td>Tata Indigo Classic Dicor</td>\n",
       "      <td>2008</td>\n",
       "      <td>1396 CC</td>\n",
       "      <td>Manual</td>\n",
       "      <td>1,20,000 kms</td>\n",
       "      <td>Diesel</td>\n",
       "      <td>Fourth &amp; Above Owner</td>\n",
       "      <td>23.57 kmpl</td>\n",
       "      <td>70 bhp</td>\n",
       "      <td>140Nm@ 1800-3000rpm</td>\n",
       "      <td>Pune</td>\n",
       "      <td>1.25 Lakh*</td>\n",
       "    </tr>\n",
       "    <tr>\n",
       "      <th>15962</th>\n",
       "      <td>Hyundai Grand i10 Nios Sportz CNG</td>\n",
       "      <td>2020</td>\n",
       "      <td>1197 CC</td>\n",
       "      <td>Manual</td>\n",
       "      <td>40,000 kms</td>\n",
       "      <td>CNG</td>\n",
       "      <td>First Owner</td>\n",
       "      <td>0.0 km/kg</td>\n",
       "      <td>68.05 bhp</td>\n",
       "      <td>95.12Nm@ 4000rpm</td>\n",
       "      <td>Pune</td>\n",
       "      <td>7.5 Lakh*</td>\n",
       "    </tr>\n",
       "    <tr>\n",
       "      <th>15963</th>\n",
       "      <td>Maruti Swift VXI Deca</td>\n",
       "      <td>2016</td>\n",
       "      <td>1197 CC</td>\n",
       "      <td>Manual</td>\n",
       "      <td>34,000 kms</td>\n",
       "      <td>Petrol</td>\n",
       "      <td>First Owner</td>\n",
       "      <td>20.4 kmpl</td>\n",
       "      <td>81.80 bhp</td>\n",
       "      <td>113Nm@ 4200rpm</td>\n",
       "      <td>Pune</td>\n",
       "      <td>5.5 Lakh*</td>\n",
       "    </tr>\n",
       "    <tr>\n",
       "      <th>15964</th>\n",
       "      <td>Maruti Baleno LXI</td>\n",
       "      <td>2004</td>\n",
       "      <td>1590 CC</td>\n",
       "      <td>Manual</td>\n",
       "      <td>60,000 kms</td>\n",
       "      <td>Petrol</td>\n",
       "      <td>Third Owner</td>\n",
       "      <td>15.4 kmpl</td>\n",
       "      <td>94 bhp</td>\n",
       "      <td>130Nm@ 3000rpm</td>\n",
       "      <td>Pune</td>\n",
       "      <td>75,000*</td>\n",
       "    </tr>\n",
       "    <tr>\n",
       "      <th>15965</th>\n",
       "      <td>Skoda Laura 1.8 TSI Ambiente</td>\n",
       "      <td>2011</td>\n",
       "      <td>1798 CC</td>\n",
       "      <td>Manual</td>\n",
       "      <td>50,000 kms</td>\n",
       "      <td>Petrol</td>\n",
       "      <td>Third Owner</td>\n",
       "      <td>13.4 kmpl</td>\n",
       "      <td>157.8 bhp</td>\n",
       "      <td>250Nm@ 1500-4500rpm</td>\n",
       "      <td>Pune</td>\n",
       "      <td>2.5 Lakh*</td>\n",
       "    </tr>\n",
       "  </tbody>\n",
       "</table>\n",
       "<p>15966 rows × 12 columns</p>\n",
       "</div>"
      ],
      "text/plain": [
       "                             Brand_Model Manufacturing Yr   Engine  \\\n",
       "0                  2019 Volkswagen Vento             2018  1498 cc   \n",
       "1                     2017 Maruti Baleno             2017  1197 cc   \n",
       "2                    2017 Maruti Wagon R             2017   998 cc   \n",
       "3                2020 Maruti Swift Dzire             2019  1197 cc   \n",
       "4                    2020 Maruti Wagon R             2020   998 cc   \n",
       "...                                  ...              ...      ...   \n",
       "15961          Tata Indigo Classic Dicor             2008  1396 CC   \n",
       "15962  Hyundai Grand i10 Nios Sportz CNG             2020  1197 CC   \n",
       "15963              Maruti Swift VXI Deca             2016  1197 CC   \n",
       "15964                  Maruti Baleno LXI             2004  1590 CC   \n",
       "15965       Skoda Laura 1.8 TSI Ambiente             2011  1798 CC   \n",
       "\n",
       "      Transmission    Driven_kms Fuel Type            No. Owners     Mileage  \\\n",
       "0           Manual    98,027 Kms    Diesel             1st Owner  22.27 kmpl   \n",
       "1           Manual    34,706 Kms    Petrol             1st Owner  21.01 kmpl   \n",
       "2        Automatic    41,220 Kms    Petrol             1st Owner  20.51 kmpl   \n",
       "3           Manual     9,379 Kms    Petrol             1st Owner     22 kmpl   \n",
       "4           Manual    10,412 Kms    Petrol             1st Owner  21.79 kmpl   \n",
       "...            ...           ...       ...                   ...         ...   \n",
       "15961       Manual  1,20,000 kms    Diesel  Fourth & Above Owner  23.57 kmpl   \n",
       "15962       Manual    40,000 kms       CNG           First Owner   0.0 km/kg   \n",
       "15963       Manual    34,000 kms    Petrol           First Owner   20.4 kmpl   \n",
       "15964       Manual    60,000 kms    Petrol           Third Owner   15.4 kmpl   \n",
       "15965       Manual    50,000 kms    Petrol           Third Owner   13.4 kmpl   \n",
       "\n",
       "           Power               Torque   location       Price  \n",
       "0       108.6bhp                250Nm  Ahmedabad    6,99,000  \n",
       "1       81.80bhp                113Nm  Ahmedabad    5,20,000  \n",
       "2          67bhp                 90Nm  Ahmedabad    4,25,000  \n",
       "3       81.80bhp                113Nm  Ahmedabad    6,75,000  \n",
       "4       67.05bhp                 90Nm  Ahmedabad    4,80,000  \n",
       "...          ...                  ...        ...         ...  \n",
       "15961     70 bhp  140Nm@ 1800-3000rpm       Pune  1.25 Lakh*  \n",
       "15962  68.05 bhp     95.12Nm@ 4000rpm       Pune   7.5 Lakh*  \n",
       "15963  81.80 bhp       113Nm@ 4200rpm       Pune   5.5 Lakh*  \n",
       "15964     94 bhp       130Nm@ 3000rpm       Pune     75,000*  \n",
       "15965  157.8 bhp  250Nm@ 1500-4500rpm       Pune   2.5 Lakh*  \n",
       "\n",
       "[15966 rows x 12 columns]"
      ]
     },
     "execution_count": 112,
     "metadata": {},
     "output_type": "execute_result"
    }
   ],
   "source": [
    "df = df.replace(\"NaN\",np.nan)\n",
    "df"
   ]
  },
  {
   "cell_type": "code",
   "execution_count": 113,
   "metadata": {},
   "outputs": [
    {
     "data": {
      "text/plain": [
       "Brand_Model          6\n",
       "Manufacturing Yr     6\n",
       "Engine              85\n",
       "Transmission         6\n",
       "Driven_kms           6\n",
       "Fuel Type            6\n",
       "No. Owners           6\n",
       "Mileage              6\n",
       "Power               45\n",
       "Torque              45\n",
       "location             0\n",
       "Price                6\n",
       "dtype: int64"
      ]
     },
     "execution_count": 113,
     "metadata": {},
     "output_type": "execute_result"
    }
   ],
   "source": [
    "df.isnull().sum()"
   ]
  },
  {
   "cell_type": "code",
   "execution_count": null,
   "metadata": {},
   "outputs": [],
   "source": []
  },
  {
   "cell_type": "code",
   "execution_count": 114,
   "metadata": {},
   "outputs": [],
   "source": [
    "df.dropna(inplace=True)"
   ]
  },
  {
   "cell_type": "code",
   "execution_count": 116,
   "metadata": {},
   "outputs": [],
   "source": [
    "df.to_csv(r'Car Data.csv', index = False)"
   ]
  },
  {
   "cell_type": "code",
   "execution_count": null,
   "metadata": {},
   "outputs": [],
   "source": []
  }
 ],
 "metadata": {
  "kernelspec": {
   "display_name": "Python 3",
   "language": "python",
   "name": "python3"
  },
  "language_info": {
   "codemirror_mode": {
    "name": "ipython",
    "version": 3
   },
   "file_extension": ".py",
   "mimetype": "text/x-python",
   "name": "python",
   "nbconvert_exporter": "python",
   "pygments_lexer": "ipython3",
   "version": "3.8.5"
  }
 },
 "nbformat": 4,
 "nbformat_minor": 4
}
